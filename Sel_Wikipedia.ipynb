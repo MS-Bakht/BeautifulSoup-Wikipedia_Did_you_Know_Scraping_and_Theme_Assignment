{
  "cells": [
    {
      "cell_type": "markdown",
      "metadata": {
        "id": "NaV_n9ce0x8p"
      },
      "source": [
        "# Libraries and models\n"
      ]
    },
    {
      "cell_type": "code",
      "execution_count": 1,
      "metadata": {
        "colab": {
          "base_uri": "https://localhost:8080/"
        },
        "id": "KZrEXWdvz3ax",
        "outputId": "80963d99-5dc6-4dab-d90f-7b6f1472ce6e"
      },
      "outputs": [
        {
          "output_type": "stream",
          "name": "stdout",
          "text": [
            "Requirement already satisfied: nltk in /usr/local/lib/python3.10/dist-packages (3.8.1)\n",
            "Requirement already satisfied: click in /usr/local/lib/python3.10/dist-packages (from nltk) (8.1.6)\n",
            "Requirement already satisfied: joblib in /usr/local/lib/python3.10/dist-packages (from nltk) (1.3.1)\n",
            "Requirement already satisfied: regex>=2021.8.3 in /usr/local/lib/python3.10/dist-packages (from nltk) (2022.10.31)\n",
            "Requirement already satisfied: tqdm in /usr/local/lib/python3.10/dist-packages (from nltk) (4.65.0)\n"
          ]
        }
      ],
      "source": [
        "!pip install nltk"
      ]
    },
    {
      "cell_type": "code",
      "execution_count": 2,
      "metadata": {
        "id": "8yMspoUm-vUy"
      },
      "outputs": [],
      "source": [
        "import requests\n",
        "from bs4 import BeautifulSoup\n",
        "import string\n",
        "import nltk\n",
        "from nltk.stem import WordNetLemmatizer\n",
        "from nltk.tokenize import word_tokenize\n",
        "import re"
      ]
    },
    {
      "cell_type": "code",
      "execution_count": 3,
      "metadata": {
        "id": "pLnsZl9g0C6w",
        "colab": {
          "base_uri": "https://localhost:8080/"
        },
        "outputId": "7abae244-3c88-4839-e65d-e18140b41815"
      },
      "outputs": [
        {
          "output_type": "stream",
          "name": "stderr",
          "text": [
            "[nltk_data] Downloading package wordnet to /root/nltk_data...\n",
            "[nltk_data] Downloading package punkt to /root/nltk_data...\n",
            "[nltk_data]   Unzipping tokenizers/punkt.zip.\n"
          ]
        },
        {
          "output_type": "execute_result",
          "data": {
            "text/plain": [
              "True"
            ]
          },
          "metadata": {},
          "execution_count": 3
        }
      ],
      "source": [
        "nltk.download('wordnet')\n",
        "nltk.download('punkt')"
      ]
    },
    {
      "cell_type": "markdown",
      "metadata": {
        "id": "a4Ddv-Eu1Hxe"
      },
      "source": [
        "# Functions\n",
        "\n",
        "\n",
        "\n",
        "*   save_story(method, title, story)\n",
        "*   get_did_you_know()\n",
        "*   convert_to_base(word)\n",
        "*   lemmatize_sentence(sentence)\n",
        "*   get_sentence_theme(sentence)\n",
        "*   calculate_theme_scores(theme)\n",
        "*   select_fact(facts_of_the_day)"
      ]
    },
    {
      "cell_type": "code",
      "source": [
        "def extract_content(string):\n",
        "    pattern = r\"'([^']*)'\"\n",
        "    matches = re.findall(pattern, string)\n",
        "    return matches"
      ],
      "metadata": {
        "id": "yc_nkx2BnTUt"
      },
      "execution_count": 4,
      "outputs": []
    },
    {
      "cell_type": "code",
      "execution_count": 5,
      "metadata": {
        "id": "dF4PTyK5gZCa"
      },
      "outputs": [],
      "source": [
        "def save_story(method, title, story):\n",
        "    filename = f\"{method}_{title}.txt\"\n",
        "    with open(filename, \"w\") as file:\n",
        "        file.write(title + \"\\n\")\n",
        "        file.write(story)\n",
        "    print(f\"Story saved to {filename}\")"
      ]
    },
    {
      "cell_type": "code",
      "execution_count": 6,
      "metadata": {
        "id": "yIT4Dnkn-4p7"
      },
      "outputs": [],
      "source": [
        "def get_did_you_know():\n",
        "    url = \"https://en.wikipedia.org/wiki/Main_Page\"\n",
        "    response = requests.get(url)\n",
        "\n",
        "    soup = BeautifulSoup(response.content, 'html.parser')\n",
        "    dyk_section = soup.find('div', id='mp-dyk')\n",
        "\n",
        "    # Find all list elements\n",
        "    list_elements = dyk_section.find_all('li')\n",
        "\n",
        "    # Extract the text from each list element and store it in a list\n",
        "    did_you_know = [li.text for li in list_elements]\n",
        "\n",
        "\n",
        "    to_drop =['Archive','Start a new article','Nominate an article']\n",
        "\n",
        "    for i in to_drop:\n",
        "        did_you_know.remove(i)\n",
        "\n",
        "    did_you_know = [sentence.replace('(pictured)', '') for sentence in did_you_know]\n",
        "\n",
        "    prefix = \"... that \"\n",
        "    did_you_know = [sentence[len(prefix):].rstrip('?').capitalize() if sentence.startswith(prefix) else sentence for sentence in did_you_know]\n",
        "\n",
        "    return did_you_know"
      ]
    },
    {
      "cell_type": "code",
      "execution_count": 7,
      "metadata": {
        "colab": {
          "base_uri": "https://localhost:8080/"
        },
        "id": "rgA9xTuG128d",
        "outputId": "af4dd9fb-e1b2-4b3c-d0c3-e1327c1c7fa5"
      },
      "outputs": [
        {
          "output_type": "stream",
          "name": "stdout",
          "text": [
            "1. 20,000 species of bees, the first feature film by estibaliz urresola solaguren , won numerous awards at film festivals\n",
            "2. When discussing her album guts, olivia rodrigo said she \"grew 10 years between the ages of 18 and 20\"\n",
            "3. Ameles decolor has one of the most complex mating rituals of any praying mantis\n",
            "4. The duke of westminster preferred bourdon house to grosvenor house\n",
            "5. Former kuwaiti foreign minister ahmad nasser al-mohammad al-sabah interrupted his studies in france to volunteer during the iraqi invasion of kuwait\n",
            "6. Almost 40 years into their career, american indie rock band yo la tengo released their first self-produced album, this stupid world, in 2023\n",
            "7. Ferrial sofyan was absent at the inauguration of his successor as deputy speaker of the jakarta regional people's representative council\n",
            "8. Oklahoma tenderloin is baloney\n"
          ]
        }
      ],
      "source": [
        "# get_did_you_know() function, scrapes the data from \"Did you know\" section of wikipedia, cleans it and returns the did you know facts as a list.\n",
        "# Call the function and print the result\n",
        "facts_of_the_day = get_did_you_know()\n",
        "for num, fact in enumerate(facts_of_the_day, 1):\n",
        "    print(f\"{num}. {fact}\")"
      ]
    },
    {
      "cell_type": "code",
      "execution_count": 8,
      "metadata": {
        "id": "_Cy1rqvYQVOV"
      },
      "outputs": [],
      "source": [
        "def convert_to_base(word):\n",
        "    lemmatizer = WordNetLemmatizer()\n",
        "    base_word = lemmatizer.lemmatize(word)\n",
        "    return base_word\n",
        "\n",
        "def lemmatize_sentence(sentence):\n",
        "    words = word_tokenize(sentence)\n",
        "    lemmatizer = WordNetLemmatizer()\n",
        "    lemmatized_words = [lemmatizer.lemmatize(word) for word in words]\n",
        "    lemmatized_sentence = ' '.join(lemmatized_words)\n",
        "    return lemmatized_sentence"
      ]
    },
    {
      "cell_type": "code",
      "execution_count": 9,
      "metadata": {
        "id": "EOUX9Tng7UAP"
      },
      "outputs": [],
      "source": [
        "def get_sentence_theme(sentence):\n",
        "    # Theme keywords/cues\n",
        "    education_keywords = [\"institute\", \"college\", \"published\", \"school\", \"learning\", \"students\", \"curriculum\", \"knowledge\", \"teaching\", \"classroom\", \"education\", \"academic\", \"study\", \"pedagogy\", \"policy\", \"technology\", \"online\", \"examination\", \"research\", \"scholarship\"]\n",
        "    sports_keywords = [\"player\", \"sports\", \"match\", \"team\", \"game\", \"championship\", \"athlete\", \"competition\", \"sportsmanship\", \"training\", \"fitness\", \"industry\", \"psychology\", \"medicine\", \"analytics\", \"nutrition\", \"coach\", \"stadium\", \"sportsman\"]\n",
        "    technology_keywords = [\"innovation\", \"tech\", \"technology\", \"digital\", \"device\", \"software\", \"internet\", \"computer\", \"tech\", \"electronics\", \"intelligence\", \"automation\", \"cybersecurity\", \"learning\", \"science\", \"cloud\", \"blockchain\", \"algorithm\", \"coding\", \"programming\"]\n",
        "    music_keywords = [\"song\", \"pop\", \"rock\", \"hip\", \"hop\", \"rap\", \"r&b\", \"soul\", \"country\", \"jazz\", \"electronic\", \"classical\", \"reggae\", \"metal\", \"music\", \"artist\", \"album\", \"melody\", \"performance\", \"genre\", \"musician\", \"concert\", \"composition\", \"industry\", \"production\", \"theory\", \"therapy\", \"festivals\", \"streaming\", \"lyrics\", \"soundtrack\", \"instrument\", \"harmony\"]\n",
        "    history_keywords = [\"event\", \"history\", \"era\", \"historical\", \"timeline\", \"ancient\", \"civilization\", \"war\", \"monarchy\", \"revolution\", \"archaeology\", \"historian\", \"figures\", \"documents\", \"research\", \"oral\", \"heritage\", \"culture\", \"anthropology\", \"museum\"]\n",
        "    politics_keywords = [\"government\", \"leader\", \"politics\", \"political\", \"strike\", \"diplomatic\", \"diplomacy\", \"ambassador\", \"governor\", \"policy\", \"election\", \"democracy\", \"legislation\", \"leader\", \"party\", \"administration\", \"governance\", \"activism\", \"campaign\", \"citizen\", \"voting\"]\n",
        "    science_keywords = [\"research\", \"science\", \"experiment\", \"discovery\", \"theory\", \"scientific\", \"laboratory\", \"scientist\", \"innovation\", \"technology\", \"method\", \"physics\", \"chemistry\", \"biology\", \"astronomy\", \"neuroscience\", \"mathematics\", \"data\", \"analysis\", \"hypothesis\"]\n",
        "    nature_keywords = [\"environment\", \"nature\", \"wildlife\", \"ecosystem\", \"natural\", \"conservation\", \"biodiversity\", \"ecology\", \"climate\", \"reserve\", \"sustainability\", \"services\", \"ethics\", \"activism\", \"tourism\", \"ecosystems\", \"habitat\", \"species\", \"ocean\", \"forest\"]\n",
        "    food_keywords = [\"cuisine\", \"food\", \"recipe\", \"cooking\", \"ingredient\", \"taste\", \"culinary\", \"gastronomy\", \"culture\", \"nutrition\", \"industry\", \"trends\", \"blogging\", \"sustainability\", \"science\", \"arts\", \"restaurant\", \"chef\", \"flavors\", \"beverages\"]\n",
        "    travel_keywords = [\"destination\", \"travel\", \"explore\", \"adventure\", \"journey\", \"tourism\", \"vacation\", \"wanderlust\", \"agency\", \"sightseeing\", \"experience\", \"backpacking\", \"ecotourism\", \"sustainable\", \"photography\", \"immersion\", \"passport\", \"culture\", \"explorer\", \"hospitality\"]\n",
        "    art_keywords = [\"painting\", \"art\", \"sculpture\", \"masterpiece\", \"creativity\", \"exhibition\", \"artist\", \"artistic\", \"visual\", \"gallery\", \"movement\", \"history\", \"critique\", \"therapy\", \"contemporary\", \"public\", \"design\", \"expression\", \"aesthetics\", \"canvas\"]\n",
        "    literature_keywords = [\"novel\", \"literature\", \"poetry\", \"author\", \"literary\", \"book\", \"storytelling\", \"fiction\", \"classics\", \"reading\", \"analysis\", \"theory\", \"publishing\", \"creative\", \"criticism\", \"poetic\", \"prose\", \"literature\", \"library\", \"narrative\"]\n",
        "    health_keywords = [\"wellness\", \"health\", \"fitness\", \"medical\", \"wellbeing\", \"nutrition\", \"healthcare\", \"lifestyle\", \"mental\", \"education\", \"public\", \"holistic\", \"alternative\", \"preventive\", \"technology\", \"telemedicine\", \"therapy\", \"medication\", \"wellness\", \"disease\"]\n",
        "    business_keywords = [\"company\", \"ceo\", \"business\", \"entrepreneurship\", \"finance\", \"economy\", \"market\", \"investment\", \"startup\", \"strategy\", \"entrepreneur\", \"development\", \"ethics\", \"financial\", \"analytics\", \"supply\", \"e-commerce\", \"management\", \"leadership\", \"organization\", \"entrepreneurial\"]\n",
        "    celebrities_keywords = [\"actor\", \"actress\", \"fame\", \"celebrity\", \"entertainment\", \"star\", \"carpet\", \"paparazzi\", \"culture\", \"showbiz\", \"gossip\", \"endorsements\", \"news\", \"interviews\", \"industry\", \"stardom\", \"redcarpet\", \"fashion\", \"film\"]\n",
        "    film_keywords = [\"movie\", \"film\", \"director\", \"cinema\", \"screenplay\", \"cinematography\", \"blockbuster\", \"industry\", \"festival\", \"production\", \"analysis\", \"theory\", \"genres\", \"documentary\", \"effects\", \"actor\", \"script\", \"cinematic\", \"filmography\"]\n",
        "    environment_keywords = [\"sustainability\", \"environment\", \"climate\", \"conservation\", \"ecosystem\", \"green\", \"renewable\", \"activism\", \"footprint\", \"policy\", \"awareness\", \"energy\", \"management\", \"education\", \"adaptation\", \"restoration\", \"pollution\", \"global\", \"warming\", \"ecological\"]\n",
        "    fashion_keywords = [\"style\", \"trend\", \"fashion\", \"designer\", \"runway\", \"clothing\", \"attire\", \"industry\", \"brand\", \"show\", \"photography\", \"blogging\", \"marketing\", \"sustainable\", \"couture\", \"retail\", \"fashion\", \"accessories\", \"textile\", \"design\"]\n",
        "    culture_keywords = [\"tradition\", \"culture\", \"heritage\", \"customs\", \"society\", \"cultural\", \"diversity\", \"identity\", \"exchange\", \"studies\", \"anthropology\", \"multiculturalism\", \"cultural\", \"festivals\", \"assimilation\", \"language\", \"cultural\", \"expression\", \"rituals\"]\n",
        "    crime_keywords = [\"investigation\", \"appeals\", \"conviction\", \"convict\", \"court\", \"crime\", \"arrested\", \"criminal\", \"law\", \"justice\", \"detective\", \"offender\", \"forensics\", \"scene\", \"system\", \"prevention\", \"profiling\", \"cybercrime\", \"organized\", \"white-collar\", \"juvenile\", \"punishment\", \"victim\", \"crime\", \"police\"]\n",
        "    space_keywords = [\"universe\", \"space\", \"astronomy\", \"exploration\", \"celestial\", \"planet\", \"astronaut\", \"travel\", \"technology\", \"cosmology\", \"missions\", \"astrophysics\", \"probes\", \"colonization\", \"rocketry\", \"observatories\", \"galaxy\", \"spacecraft\", \"space\", \"astronomical\"]\n",
        "    architecture_keywords = [\"building\", \"architecture\", \"design\", \"structure\", \"urban\", \"construction\", \"landmark\", \"architect\", \"style\", \"planning\", \"history\", \"sustainable\", \"theory\", \"landscape\", \"preservation\", \"drawings\", \"skyscraper\", \"architecture\", \"interior\", \"facade\"]\n",
        "    religion_keywords = [\"faith\", \"religion\", \"hajj\", \"pilgrim\", \"pilgrims\", \"pope\", \"imaam\", \"christianity\", \"islam\", \"belief\", \"spirituality\", \"worship\", \"divine\", \"theology\", \"practices\", \"texts\", \"interfaith\", \"awakening\", \"rituals\", \"leaders\", \"communities\", \"religion\", \"sacred\", \"ritual\"]\n",
        "    philosophy_keywords = [\"ethics\", \"philosophy\", \"morality\", \"reasoning\", \"metaphysics\", \"existential\", \"thought\", \"philosopher\", \"theories\", \"epistemology\", \"logic\", \"debates\", \"mind\", \"moral\", \"political\", \"science\", \"philosophy\", \"knowledge\", \"wisdom\", \"rationality\"]\n",
        "    social_issues_keywords = [\"inequality\", \"social\", \"poverty\", \"discrimination\", \"activism\", \"justice\", \"rights\", \"human\", \"development\", \"welfare\", \"gender\", \"racial\", \"movements\", \"environmental\", \"empowerment\", \"equality\", \"social\", \"societal\", \"inequity\", \"change\"]\n",
        "    economy_keywords = [\"finance\", \"economy\", \"market\", \"trade\", \"economic\", \"growth\", \"recession\", \"macroeconomics\", \"microeconomics\", \"policies\", \"indicators\", \"inequality\", \"development\", \"trade\", \"cycles\", \"fiscal\", \"entrepreneurship\", \"commerce\", \"business\", \"consumption\"]\n",
        "    medical_keywords = [\"health\", \"medical\", \"illness\", \"treatment\", \"doctor\", \"patient\", \"medicine\", \"diagnosis\", \"surgery\", \"vaccination\", \"healthcare\", \"pharmaceuticals\", \"research\", \"technology\", \"public\", \"ethics\", \"imaging\", \"insurance\", \"pandemic\", \"therapy\"]\n",
        "    conflict_keywords = [\"conflict\", \"war\", \"wars\", \"battle\", \"military\", \"armies\", \"soldiers\", \"warfare\", \"strategy\", \"tactics\", \"weapons\", \"casualties\", \"violence\", \"siege\", \"peacekeeping\", \"defense\", \"offensive\", \"civil\", \"crimes\", \"nuclear\", \"guerrilla\", \"veterans\", \"effort\", \"zone\", \"memorial\", \"correspondent\", \"photography\"]\n",
        "\n",
        "\n",
        "    # Theme scores initialization\n",
        "    education_score = 0\n",
        "    sports_score = 0\n",
        "    technology_score = 0\n",
        "    music_score = 0\n",
        "    history_score = 0\n",
        "    politics_score = 0\n",
        "    science_score = 0\n",
        "    nature_score = 0\n",
        "    food_score = 0\n",
        "    travel_score = 0\n",
        "    art_score = 0\n",
        "    literature_score = 0\n",
        "    health_score = 0\n",
        "    business_score = 0\n",
        "    celebrities_score = 0\n",
        "    film_score = 0\n",
        "    environment_score = 0\n",
        "    fashion_score = 0\n",
        "    culture_score = 0\n",
        "    crime_score = 0\n",
        "    space_score = 0\n",
        "    architecture_score = 0\n",
        "    religion_score = 0\n",
        "    philosophy_score = 0\n",
        "    social_issues_score = 0\n",
        "    economy_score = 0\n",
        "    unknown_score = 0\n",
        "    medical_score = 0\n",
        "    conflict_score = 0\n",
        "\n",
        "    # Calculate theme scores based on keyword matches\n",
        "    for word in sentence.lower().split():\n",
        "        if word in education_keywords:\n",
        "            education_score += 1\n",
        "        if word in sports_keywords:\n",
        "            sports_score += 1\n",
        "        if word in technology_keywords:\n",
        "            technology_score += 1\n",
        "        if word in music_keywords:\n",
        "            music_score += 1\n",
        "        if word in history_keywords:\n",
        "            history_score += 1\n",
        "        if word in politics_keywords:\n",
        "            politics_score += 1\n",
        "        if word in science_keywords:\n",
        "            science_score += 1\n",
        "        if word in nature_keywords:\n",
        "            nature_score += 1\n",
        "        if word in food_keywords:\n",
        "            food_score += 1\n",
        "        if word in travel_keywords:\n",
        "            travel_score += 1\n",
        "        if word in art_keywords:\n",
        "            art_score += 1\n",
        "        if word in literature_keywords:\n",
        "            literature_score += 1\n",
        "        if word in health_keywords:\n",
        "            health_score += 1\n",
        "        if word in business_keywords:\n",
        "            business_score += 1\n",
        "        if word in celebrities_keywords:\n",
        "            celebrities_score += 1\n",
        "        if word in film_keywords:\n",
        "            film_score += 1\n",
        "        if word in environment_keywords:\n",
        "            environment_score += 1\n",
        "        if word in fashion_keywords:\n",
        "            fashion_score += 1\n",
        "        if word in culture_keywords:\n",
        "            culture_score += 1\n",
        "        if word in crime_keywords:\n",
        "            crime_score += 1\n",
        "        if word in space_keywords:\n",
        "            space_score += 1\n",
        "        if word in architecture_keywords:\n",
        "            architecture_score += 1\n",
        "        if word in religion_keywords:\n",
        "            religion_score += 1\n",
        "        if word in philosophy_keywords:\n",
        "            philosophy_score += 1\n",
        "        if word in social_issues_keywords:\n",
        "            social_issues_score += 1\n",
        "        if word in economy_keywords:\n",
        "            economy_score += 1\n",
        "        if word in medical_keywords:\n",
        "            medical_score +=1\n",
        "        if word in conflict_keywords:\n",
        "            conflict_score +=1\n",
        "\n",
        "    # Create a dictionary of theme scores\n",
        "    theme_scores = {\n",
        "        \"unknown\":unknown_score,\n",
        "        \"education\": education_score,\n",
        "        \"sports\": sports_score,\n",
        "        \"technology\": technology_score,\n",
        "        \"music\": music_score,\n",
        "        \"history\": history_score,\n",
        "        \"politics\": politics_score,\n",
        "        \"science\": science_score,\n",
        "        \"nature\": nature_score,\n",
        "        \"food\": food_score,\n",
        "        \"travel\": travel_score,\n",
        "        \"art\": art_score,\n",
        "        \"literature\": literature_score,\n",
        "        \"health\": health_score,\n",
        "        \"business\": business_score,\n",
        "        \"celebrities\": celebrities_score,\n",
        "        \"film\": film_score,\n",
        "        \"environment\": environment_score,\n",
        "        \"fashion\": fashion_score,\n",
        "        \"culture\": culture_score,\n",
        "        \"crime\": crime_score,\n",
        "        \"space\": space_score,\n",
        "        \"architecture\": architecture_score,\n",
        "        \"religion\": religion_score,\n",
        "        \"philosophy\": philosophy_score,\n",
        "        \"social_issues\": social_issues_score,\n",
        "        \"economy\": economy_score,\n",
        "        \"medical\": medical_score,\n",
        "        \"conflict\": conflict_score,\n",
        "    }\n",
        "\n",
        "    max_key = max(theme_scores, key=theme_scores.get)\n",
        "    return max_key"
      ]
    },
    {
      "cell_type": "code",
      "execution_count": 10,
      "metadata": {
        "id": "n8EGnB-bdr-2"
      },
      "outputs": [],
      "source": [
        "def calculate_theme_scores(theme):\n",
        "    theme_score_mapping = {\n",
        "    \"unknown\":2,\n",
        "    \"education\": 7,\n",
        "    \"sports\": 6.1,\n",
        "    \"technology\": 8,\n",
        "    \"music\": 7.2,\n",
        "    \"history\": 6.3,\n",
        "    \"politics\": 5.4,\n",
        "    \"science\": 7.5,\n",
        "    \"nature\": 6.6,\n",
        "    \"food\": 6.7,\n",
        "    \"travel\": 6.8,\n",
        "    \"art\": 7.9,\n",
        "    \"literature\": 7.3,\n",
        "    \"health\": 6.4,\n",
        "    \"business\": 7.6,\n",
        "    \"celebrities\": 6.5,\n",
        "    \"film\": 7.7,\n",
        "    \"environment\": 6.9,\n",
        "    \"fashion\": 6.2,\n",
        "    \"culture\": 7.8,\n",
        "    \"crime\": 5.1,\n",
        "    \"space\": 8.1,\n",
        "    \"architecture\": 7.4,\n",
        "    \"religion\": 6,\n",
        "    \"philosophy\": 7.1,\n",
        "    \"social_issues\": 6.5,\n",
        "    \"economy\": 7.7,\n",
        "    \"medical\": 8.2,\n",
        "    \"conflict\": 7.3\n",
        "    }\n",
        "\n",
        "    return theme_score_mapping[theme]"
      ]
    },
    {
      "cell_type": "code",
      "execution_count": 11,
      "metadata": {
        "id": "vB0Vp54o7ayq"
      },
      "outputs": [],
      "source": [
        "def select_fact(facts_of_the_day):\n",
        "  scores = []\n",
        "  themes = []\n",
        "  punctuation_marks = string.punctuation\n",
        "\n",
        "  for fact in facts_of_the_day:\n",
        "    fact_sentence = fact\n",
        "    fact_sentence = \"\".join(char for char in fact_sentence if char not in punctuation_marks)\n",
        "    fact_theme = get_sentence_theme(fact_sentence)\n",
        "\n",
        "    # If we get an unknown theme, we lemmatize the sentence and check it again incase the base word matches the keywords.\n",
        "    if fact_theme  == 'unknown':\n",
        "      fact_sentence = lemmatize_sentence(fact_sentence)\n",
        "      fact_theme = get_sentence_theme(fact_sentence)\n",
        "\n",
        "    themes.append(fact_theme)\n",
        "    scores.append(calculate_theme_scores(fact_theme))\n",
        "\n",
        "  max_score = max(scores)\n",
        "  max_index = scores.index(max_score)\n",
        "\n",
        "  #return the index of the highest score fact\n",
        "  return max_index, scores, themes"
      ]
    },
    {
      "cell_type": "markdown",
      "metadata": {
        "id": "-5dyhE9O_D73"
      },
      "source": [
        "# Theme Conclusion\n",
        "\n"
      ]
    },
    {
      "cell_type": "code",
      "execution_count": 12,
      "metadata": {
        "colab": {
          "base_uri": "https://localhost:8080/"
        },
        "id": "wbMckzT3YggQ",
        "outputId": "b97988f2-3dcb-4b49-f407-3a9e2b5e8e0c"
      },
      "outputs": [
        {
          "output_type": "stream",
          "name": "stdout",
          "text": [
            "Index:  2\n",
            "Predicted Theme:  culture\n"
          ]
        }
      ],
      "source": [
        "fun_index , fun_scores, fun_theme = select_fact(facts_of_the_day)\n",
        "print(\"Index: \",fun_index)\n",
        "punctuation_marks = string.punctuation\n",
        "print(\"Predicted Theme: \",get_sentence_theme(\"\".join(char for char in facts_of_the_day[fun_index] if char not in punctuation_marks)))"
      ]
    },
    {
      "cell_type": "code",
      "execution_count": 13,
      "metadata": {
        "colab": {
          "base_uri": "https://localhost:8080/"
        },
        "id": "JUwzPu5tSHth",
        "outputId": "cb7e5e95-ab6e-4427-ebc9-6895f8c6d592"
      },
      "outputs": [
        {
          "output_type": "stream",
          "name": "stdout",
          "text": [
            "celebrities  :  6.5\n",
            "music  :  7.2\n",
            "culture  :  7.8\n",
            "unknown  :  2\n",
            "culture  :  7.8\n",
            "music  :  7.2\n",
            "unknown  :  2\n",
            "unknown  :  2\n"
          ]
        }
      ],
      "source": [
        "for i in range(0,len(fun_theme)):\n",
        "  print(fun_theme[i] , \" : \",fun_scores[i])"
      ]
    },
    {
      "cell_type": "code",
      "execution_count": 14,
      "metadata": {
        "colab": {
          "base_uri": "https://localhost:8080/"
        },
        "id": "f54Vgfsl-77U",
        "outputId": "7b6dde3b-9743-4ca8-c705-d1a6ec1e2d98"
      },
      "outputs": [
        {
          "output_type": "stream",
          "name": "stdout",
          "text": [
            "Fact:\n",
            "\n",
            "Ameles decolor has one of the most complex mating rituals of any praying mantis\n",
            "\n",
            "Guessed Theme:  culture\n",
            "Assigned Score:  7.8\n"
          ]
        }
      ],
      "source": [
        "did_you_know_facts = get_did_you_know()\n",
        "main_index, main_scores, main_themes = select_fact(did_you_know_facts)\n",
        "\n",
        "print(\"Fact:\\n\")\n",
        "print(did_you_know_facts[main_index])\n",
        "print(\"\\nGuessed Theme: \",main_themes[main_index])\n",
        "print(\"Assigned Score: \",main_scores[main_index])"
      ]
    }
  ],
  "metadata": {
    "accelerator": "GPU",
    "colab": {
      "collapsed_sections": [
        "a4Ddv-Eu1Hxe",
        "-5dyhE9O_D73",
        "L0vsvwxti-Rb",
        "sLHnVrNZPtwy",
        "qwnoyKboSlcT",
        "lWNJm159MHsV",
        "HYlMuBLRR9Ui"
      ],
      "provenance": []
    },
    "kernelspec": {
      "display_name": "Python 3",
      "name": "python3"
    },
    "language_info": {
      "name": "python"
    }
  },
  "nbformat": 4,
  "nbformat_minor": 0
}